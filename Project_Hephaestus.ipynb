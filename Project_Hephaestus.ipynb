{
  "nbformat": 4,
  "nbformat_minor": 0,
  "metadata": {
    "colab": {
      "name": "Project_Hephaestus.ipynb",
      "provenance": [],
      "authorship_tag": "ABX9TyP2IdGCuVXVWHlzP8eq2G+F",
      "include_colab_link": true
    },
    "kernelspec": {
      "name": "python3",
      "display_name": "Python 3"
    },
    "language_info": {
      "name": "python"
    }
  },
  "cells": [
    {
      "cell_type": "markdown",
      "metadata": {
        "id": "view-in-github",
        "colab_type": "text"
      },
      "source": [
        "<a href=\"https://colab.research.google.com/github/eher78/UCARE_Emotional_Generated_Art/blob/main/Project_Hephaestus.ipynb\" target=\"_parent\"><img src=\"https://colab.research.google.com/assets/colab-badge.svg\" alt=\"Open In Colab\"/></a>"
      ]
    },
    {
      "cell_type": "markdown",
      "metadata": {
        "id": "-awutJtYLVNK"
      },
      "source": [
        "Link to Helpful Website that helped me get the start of this: https://towardsdatascience.com/generating-modern-arts-using-generative-adversarial-network-gan-on-spell-39f67f83c7b4"
      ]
    },
    {
      "cell_type": "markdown",
      "metadata": {
        "id": "hySmBVnNJmRf"
      },
      "source": [
        "**Lets start by creating some code to resize our images. **"
      ]
    },
    {
      "cell_type": "code",
      "metadata": {
        "id": "HZCrnB9KJr0V"
      },
      "source": [
        "import os\n",
        "import numpy as np\n",
        "from PIL import Image"
      ],
      "execution_count": 4,
      "outputs": []
    },
    {
      "cell_type": "markdown",
      "metadata": {
        "id": "xrUeLsICLJiM"
      },
      "source": [
        "We are then resizing the image size and image channel (color means 3 channels RGB)"
      ]
    },
    {
      "cell_type": "code",
      "metadata": {
        "colab": {
          "base_uri": "https://localhost:8080/"
        },
        "id": "GjZ5es77Llc_",
        "outputId": "9b99c4c4-2677-4727-b8c7-6a2e69adecbb"
      },
      "source": [
        "image_size = 128\n",
        "image_channels = 3\n",
        "image_datafiles = 'artworks/'\n",
        "\n",
        "image_path = image_datafiles\n",
        "\n",
        "training_data = []\n",
        "\n",
        "for filename in os.listdir(image_path):\n",
        "  path = os.path.join(image_path, filename)\n",
        "  image = Image.open(path).resize((image_size, image_size), Image.ANTIALIAS)\n",
        "  training_data.append(np.asarray(image))\n",
        "\n",
        "training_data = np.reshape(training_data, (-1, image_size, image_size, image_channels))\n",
        "training_data = training_data / 127.5 - 1\n",
        "\n",
        "np.save('artwork_data.npy', training_data)\n",
        "print('Artwork Data uploaded...')"
      ],
      "execution_count": 5,
      "outputs": [
        {
          "output_type": "stream",
          "text": [
            "Artwork Data uploaded...\n"
          ],
          "name": "stdout"
        }
      ]
    },
    {
      "cell_type": "code",
      "metadata": {
        "id": "vu8vIceYNxXG"
      },
      "source": [
        "# TO VERIFY:\n",
        "# np.load('artwork_data.npy')"
      ],
      "execution_count": 7,
      "outputs": []
    }
  ]
}